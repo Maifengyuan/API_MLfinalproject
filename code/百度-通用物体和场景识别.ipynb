{
 "cells": [
  {
   "cell_type": "markdown",
   "metadata": {},
   "source": [
    "### 百度API：通用物体和场景识别\n",
    "\n",
    "[官方说明文档](https://ai.baidu.com/ai-doc/IMAGERECOGNITION/Xk3bcxe21)\n",
    "\n",
    "[鉴权认证机制(获取Access Token)](https://ai.baidu.com/ai-doc/REFERENCE/Ck3dwjhhu)\n",
    "\n",
    "**HTTP 方法：** POST\n",
    "\n",
    "**请求URL：** https://aip.baidubce.com/rest/2.0/image-classify/v2/advanced_general"
   ]
  },
  {
   "cell_type": "code",
   "execution_count": 1,
   "metadata": {},
   "outputs": [
    {
     "data": {
      "text/html": [
       "<div>\n",
       "<style scoped>\n",
       "    .dataframe tbody tr th:only-of-type {\n",
       "        vertical-align: middle;\n",
       "    }\n",
       "\n",
       "    .dataframe tbody tr th {\n",
       "        vertical-align: top;\n",
       "    }\n",
       "\n",
       "    .dataframe thead th {\n",
       "        text-align: right;\n",
       "    }\n",
       "</style>\n",
       "<table border=\"1\" class=\"dataframe\">\n",
       "  <thead>\n",
       "    <tr style=\"text-align: right;\">\n",
       "      <th></th>\n",
       "      <th>0</th>\n",
       "    </tr>\n",
       "  </thead>\n",
       "  <tbody>\n",
       "    <tr>\n",
       "      <th>refresh_token</th>\n",
       "      <td>25.f673a23f55b8ac2b9f862124fea25095.315360000....</td>\n",
       "    </tr>\n",
       "    <tr>\n",
       "      <th>expires_in</th>\n",
       "      <td>2592000</td>\n",
       "    </tr>\n",
       "    <tr>\n",
       "      <th>session_key</th>\n",
       "      <td>9mzdWrrydc0Z0Tz3SqztkrQaZ49x8bsXdQKRFCphBzPEzX...</td>\n",
       "    </tr>\n",
       "    <tr>\n",
       "      <th>access_token</th>\n",
       "      <td>24.af8c5c0f2b2fbdc2e5b5d885f522ce13.2592000.16...</td>\n",
       "    </tr>\n",
       "    <tr>\n",
       "      <th>scope</th>\n",
       "      <td>public vis-classify_dishes vis-classify_car br...</td>\n",
       "    </tr>\n",
       "    <tr>\n",
       "      <th>session_secret</th>\n",
       "      <td>4d02c8e1852899df1131513c4ab78e4d</td>\n",
       "    </tr>\n",
       "  </tbody>\n",
       "</table>\n",
       "</div>"
      ],
      "text/plain": [
       "                                                                0\n",
       "refresh_token   25.f673a23f55b8ac2b9f862124fea25095.315360000....\n",
       "expires_in                                                2592000\n",
       "session_key     9mzdWrrydc0Z0Tz3SqztkrQaZ49x8bsXdQKRFCphBzPEzX...\n",
       "access_token    24.af8c5c0f2b2fbdc2e5b5d885f522ce13.2592000.16...\n",
       "scope           public vis-classify_dishes vis-classify_car br...\n",
       "session_secret                   4d02c8e1852899df1131513c4ab78e4d"
      ]
     },
     "metadata": {},
     "output_type": "display_data"
    },
    {
     "data": {
      "text/plain": [
       "'24.af8c5c0f2b2fbdc2e5b5d885f522ce13.2592000.1612944227.282335-23525275'"
      ]
     },
     "execution_count": 1,
     "metadata": {},
     "output_type": "execute_result"
    }
   ],
   "source": [
    "# A-1 获取access_token等参数信息\n",
    "# encoding:utf-8\n",
    "# client_id 为官网获取的AK， client_secret 为官网获取的SK\n",
    "import requests \n",
    "import pandas as pd\n",
    "import json\n",
    "\n",
    "host = 'https://aip.baidubce.com/oauth/2.0/token'\n",
    "params = {\n",
    "    \"grant_type\":\"client_credentials\", # grant_type=client_credentials&client_id\n",
    "    \"client_id\":\"whLpOu1PE8jIv6BSGMwqbBa3\", # 【官网获取的AK】\n",
    "    \"client_secret\":\"MAr7YkeVlyV2Bo7B2MGc3T5rdpaSII16\" # 【官网获取的SK】\n",
    "}\n",
    "response = requests.get(host,params=params)\n",
    "display(pd.json_normalize(response.json()).T) # T改变为上下排列\n",
    "\n",
    "access_token=response.json()[\"access_token\"]\n",
    "access_token"
   ]
  },
  {
   "cell_type": "code",
   "execution_count": 4,
   "metadata": {},
   "outputs": [
    {
     "data": {
      "text/plain": [
       "{'log_id': 5712521386408023851,\n",
       " 'result_num': 5,\n",
       " 'result': [{'score': 0.358338, 'root': '建筑-其他', 'keyword': '居民楼'},\n",
       "  {'score': 0.253114, 'root': '自然风景-天空', 'keyword': '天空'},\n",
       "  {'score': 0.17113, 'root': '建筑-现代建筑', 'keyword': '剧院/博物馆/礼堂'},\n",
       "  {'score': 0.088515, 'root': '自然风景-其他', 'keyword': '风景'},\n",
       "  {'score': 0.006694, 'root': '植物-树', 'keyword': '树'}]}"
      ]
     },
     "execution_count": 4,
     "metadata": {},
     "output_type": "execute_result"
    }
   ],
   "source": [
    "# encoding:utf-8\n",
    "\n",
    "# AppID = '23525275'\n",
    "# API Key = 'whLpOu1PE8jIv6BSGMwqbBa3'\n",
    "# Secret Key = 'MAr7YkeVlyV2Bo7B2MGc3T5rdpaSII16'\n",
    "\n",
    "\n",
    "import requests\n",
    "import base64\n",
    "\n",
    "'''\n",
    "通用物体和场景识别\n",
    "'''\n",
    "\n",
    "request_url = \"https://aip.baidubce.com/rest/2.0/image-classify/v2/advanced_general\"\n",
    "# 二进制方式打开图片文件\n",
    "f = open('ptest05.jpg', 'rb')\n",
    "img = base64.b64encode(f.read())\n",
    "\n",
    "params = {\"image\":img}\n",
    "access_token = '24.af8c5c0f2b2fbdc2e5b5d885f522ce13.2592000.1612944227.282335-23525275'\n",
    "request_url = request_url + \"?access_token=\" + access_token\n",
    "headers = {'content-type': 'application/x-www-form-urlencoded'}\n",
    "response = requests.post(request_url, data=params, headers=headers)\n",
    "# if response:\n",
    "#     print (response.json())\n",
    "    \n",
    "result = response.json()\n",
    "result"
   ]
  },
  {
   "cell_type": "code",
   "execution_count": 1,
   "metadata": {},
   "outputs": [
    {
     "data": {
      "text/plain": [
       "{'log_id': 6639343850218473740,\n",
       " 'result_num': 5,\n",
       " 'result': [{'score': 0.31101, 'root': '商品-电脑办公', 'keyword': '笔记本电脑'},\n",
       "  {'score': 0.230072, 'root': '商品-数码产品', 'keyword': '台式电脑'},\n",
       "  {'score': 0.155608, 'root': '商品-家用电器', 'keyword': '音箱'},\n",
       "  {'score': 0.076702, 'root': '商品-电脑办公', 'keyword': '键盘'},\n",
       "  {'score': 0.001803, 'root': '商品-电脑办公', 'keyword': '电脑'}]}"
      ]
     },
     "execution_count": 1,
     "metadata": {},
     "output_type": "execute_result"
    }
   ],
   "source": [
    "# encoding:utf-8\n",
    "\n",
    "# AppID = '23525275'\n",
    "# API Key = 'whLpOu1PE8jIv6BSGMwqbBa3'\n",
    "# Secret Key = 'MAr7YkeVlyV2Bo7B2MGc3T5rdpaSII16'\n",
    "\n",
    "\n",
    "import requests\n",
    "import base64\n",
    "\n",
    "'''\n",
    "通用物体和场景识别\n",
    "'''\n",
    "\n",
    "request_url = \"https://aip.baidubce.com/rest/2.0/image-classify/v2/advanced_general\"\n",
    "# 二进制方式打开图片文件\n",
    "f = open('stest02.jpg', 'rb')\n",
    "img = base64.b64encode(f.read())\n",
    "\n",
    "params = {\"image\":img}\n",
    "access_token = '24.af8c5c0f2b2fbdc2e5b5d885f522ce13.2592000.1612944227.282335-23525275'\n",
    "request_url = request_url + \"?access_token=\" + access_token\n",
    "headers = {'content-type': 'application/x-www-form-urlencoded'}\n",
    "response = requests.post(request_url, data=params, headers=headers)\n",
    "# if response:\n",
    "#     print (response.json())\n",
    "    \n",
    "result = response.json()\n",
    "result"
   ]
  },
  {
   "cell_type": "markdown",
   "metadata": {},
   "source": [
    "#### 返回参数说明\n",
    "\n",
    "|参数|返回值|说明|\n",
    "| --- | --- | --- |\n",
    "|log_id|6639343850218473740|用于问题定位|\n",
    "|result_num|5|返回结果数目，及result数组中的元素个数|\n",
    "|score|(0.31101)|置信度，0-1|\n",
    "|root|商品|识别结果的上层标签|\n",
    "|keyword|(笔记本电脑)|图片中的物体或场景名称|"
   ]
  },
  {
   "cell_type": "code",
   "execution_count": null,
   "metadata": {},
   "outputs": [],
   "source": []
  }
 ],
 "metadata": {
  "kernelspec": {
   "display_name": "Python 3",
   "language": "python",
   "name": "python3"
  },
  "language_info": {
   "codemirror_mode": {
    "name": "ipython",
    "version": 3
   },
   "file_extension": ".py",
   "mimetype": "text/x-python",
   "name": "python",
   "nbconvert_exporter": "python",
   "pygments_lexer": "ipython3",
   "version": "3.8.3"
  },
  "toc": {
   "base_numbering": 1,
   "nav_menu": {},
   "number_sections": true,
   "sideBar": true,
   "skip_h1_title": false,
   "title_cell": "Table of Contents",
   "title_sidebar": "Contents",
   "toc_cell": false,
   "toc_position": {},
   "toc_section_display": true,
   "toc_window_display": false
  }
 },
 "nbformat": 4,
 "nbformat_minor": 4
}
